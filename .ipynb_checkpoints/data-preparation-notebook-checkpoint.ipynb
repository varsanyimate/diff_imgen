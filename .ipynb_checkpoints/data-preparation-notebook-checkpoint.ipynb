{
 "cells": [
  {
   "cell_type": "markdown",
   "metadata": {},
   "source": [
    "# Data Preparation for Diffusion Models\n",
    "\n",
    "This notebook covers the following steps:\n",
    "1. Importing necessary libraries\n",
    "2. Defining data preparation functions\n",
    "3. Preparing and cleaning CelebA and Flowers102 datasets\n",
    "4. Splitting data into training, validation, and test sets\n",
    "5. Saving prepared datasets"
   ]
  },
  {
   "cell_type": "code",
   "execution_count": null,
   "metadata": {},
   "source": [
    "import os\n",
    "import torch\n",
    "from torch.utils.data import DataLoader, random_split\n",
    "from torchvision import transforms\n",
    "from torchvision.datasets import CelebA, Flowers102\n",
    "from tqdm import tqdm"
   ]
  },
  {
   "cell_type": "code",
   "execution_count": null,
   "metadata": {},
   "source": [
    "def prepare_data(dataset_path, is_flowers=False, image_size=64, batch_size=32):\n",
    "    transform = transforms.Compose([\n",
    "        transforms.Resize((image_size, image_size)),\n",
    "        transforms.RandomHorizontalFlip(),\n",
    "        transforms.ToTensor(),\n",
    "        transforms.Normalize((0.5, 0.5, 0.5), (0.5, 0.5, 0.5))\n",
    "    ])\n",
    "\n",
    "    if is_flowers:\n",
    "        dataset = Flowers102(root=dataset_path, download=True, transform=transform)\n",
    "    else:\n",
    "        dataset = CelebA(root=dataset_path, download=True, transform=transform)\n",
    "\n",
    "    dataloader = DataLoader(dataset, batch_size=batch_size, shuffle=True, num_workers=4)\n",
    "    \n",
    "    return dataloader, dataset\n",
    "\n",
    "def clean_data(dataloader):\n",
    "    cleaned_images = []\n",
    "    cleaned_labels = []\n",
    "\n",
    "    for batch in tqdm(dataloader, desc=\"Cleaning data\"):\n",
    "        images, labels = batch  # Unpack the batch into images and labels\n",
    "    \n",
    "        # Apply isfinite() to the images tensor\n",
    "        mask = torch.isfinite(images).all(dim=(1, 2, 3))\n",
    "    \n",
    "        # Apply the mask to both images and labels\n",
    "        cleaned_images.append(images[mask])\n",
    "        cleaned_labels.append(labels[mask])\n",
    "    \n",
    "    return torch.cat(cleaned_images, dim=0), torch.cat(cleaned_labels, dim=0)\n",
    "\n",
    "def split_data(images, labels, train_ratio=0.7, val_ratio=0.15, test_ratio=0.15):\n",
    "    assert abs(train_ratio + val_ratio + test_ratio - 1.0) < 1e-5, \"Ratios must sum to 1\"\n",
    "    \n",
    "    dataset = torch.utils.data.TensorDataset(images, labels)\n",
    "    total_size = len(dataset)\n",
    "    train_size = int(train_ratio * total_size)\n",
    "    val_size = int(val_ratio * total_size)\n",
    "    test_size = total_size - train_size - val_size\n",
    "    \n",
    "    train_dataset, val_dataset, test_dataset = random_split(dataset, [train_size, val_size, test_size])\n",
    "    \n",
    "    return train_dataset, val_dataset, test_dataset"
   ]
  },
  {
   "cell_type": "markdown",
   "metadata": {},
   "source": [
    "## Prepare CelebA Dataset"
   ]
  },
  {
   "cell_type": "code",
   "execution_count": null,
   "metadata": {},
   "source": [
    "celeba_loader, celeba_dataset = prepare_data(\"./data\", is_flowers=False)\n",
    "cleaned_celeba_images, cleaned_celeba_labels = clean_data(celeba_loader)\n",
    "\n",
    "celeba_train, celeba_val, celeba_test = split_data(cleaned_celeba_images, cleaned_celeba_labels)\n",
    "\n",
    "print(f\"CelebA - Train: {len(celeba_train)}, Validation: {len(celeba_val)}, Test: {len(celeba_test)}\")"
   ]
  },
  {
   "cell_type": "markdown",
   "metadata": {},
   "source": [
    "## Prepare Flowers102 Dataset"
   ]
  },
  {
   "cell_type": "code",
   "execution_count": null,
   "metadata": {},
   "source": [
    "flowers_loader, flowers_dataset = prepare_data(\"./data\", is_flowers=True)\n",
    "cleaned_flowers_images, cleaned_flowers_labels = clean_data(flowers_loader)\n",
    "\n",
    "flowers_train, flowers_val, flowers_test = split_data(cleaned_flowers_images, cleaned_flowers_labels)\n",
    "\n",
    "print(f\"Flowers102 - Train: {len(flowers_train)}, Validation: {len(flowers_val)}, Test: {len(flowers_test)}\")"
   ]
  },
  {
   "cell_type": "markdown",
   "metadata": {},
   "source": [
    "## Save Prepared Datasets"
   ]
  },
  {
   "cell_type": "code",
   "execution_count": null,
   "metadata": {},
   "source": [
    "def save_dataset(dataset, filename):\n",
    "    images, labels = [], []\n",
    "    for img, lbl in dataset:\n",
    "        images.append(img)\n",
    "        labels.append(lbl)\n",
    "    torch.save({\n",
    "        'images': torch.stack(images),\n",
    "        'labels': torch.stack(labels)\n",
    "    }, filename)\n",
    "\n",
    "# Save CelebA datasets\n",
    "save_dataset(celeba_train, \"celeba_train.pt\")\n",
    "save_dataset(celeba_val, \"celeba_val.pt\")\n",
    "save_dataset(celeba_test, \"celeba_test.pt\")\n",
    "\n",
    "# Save Flowers102 datasets\n",
    "save_dataset(flowers_train, \"flowers_train.pt\")\n",
    "save_dataset(flowers_val, \"flowers_val.pt\")\n",
    "save_dataset(flowers_test, \"flowers_test.pt\")\n",
    "\n",
    "print(\"All datasets have been saved.\")"
   ]
  }
 ],
 "metadata": {
  "kernelspec": {
   "display_name": "Python 3",
   "language": "python",
   "name": "python3"
  },
  "language_info": {
   "codemirror_mode": {
    "name": "ipython",
    "version": 3
   },
   "file_extension": ".py",
   "mimetype": "text/x-python",
   "name": "python",
   "nbconvert_exporter": "python",
   "pygments_lexer": "ipython3",
   "version": "3.8.10"
  }
 },
 "nbformat": 4,
 "nbformat_minor": 4
}
