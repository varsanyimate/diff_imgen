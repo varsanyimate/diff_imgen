{
 "cells": [
  {
   "cell_type": "markdown",
   "metadata": {},
   "source": [
    "# Diffusion Model Pipeline\n",
    "\n",
    "This notebook covers the following steps:\n",
    "1. Data Acquisition\n",
    "2. Data Analysis\n",
    "3. Data Cleansing and Preparation"
   ]
  },
  {
   "cell_type": "code",
   "execution_count": 1,
   "metadata": {},
   "outputs": [],
   "source": [
    "import os\n",
    "import requests\n",
    "import zipfile\n",
    "from tqdm import tqdm\n",
    "import numpy as np\n",
    "from PIL import Image\n",
    "import matplotlib.pyplot as plt\n",
    "import torch\n",
    "from torch.utils.data import Dataset, DataLoader\n",
    "from torchvision import transforms\n",
    "from torchvision.datasets import Flowers102, CelebA\n",
    "import scipy\n",
    "import gdown"
   ]
  },
  {
   "cell_type": "markdown",
   "metadata": {},
   "source": [
    "## 1. Data Acquisition"
   ]
  },
  {
   "cell_type": "code",
   "execution_count": 3,
   "metadata": {},
   "outputs": [],
   "source": [
    "def download_file(url, filename):\n",
    "    response = requests.get(url, stream=True)\n",
    "    total_size = int(response.headers.get('content-length', 0))\n",
    "    block_size = 1024  # 1 KB\n",
    "\n",
    "    with open(filename, 'wb') as file, tqdm(\n",
    "        desc=filename,\n",
    "        total=total_size,\n",
    "        unit='iB',\n",
    "        unit_scale=True,\n",
    "        unit_divisor=1024,\n",
    "    ) as progress_bar:\n",
    "        for data in response.iter_content(block_size):\n",
    "            size = file.write(data)\n",
    "            progress_bar.update(size)\n",
    "\n",
    "#def acquire_celeba():\n",
    "#    #url = \"https://drive.google.com/uc?export=download&id=0B7EVK8r0v71pZjFTYXZWM3FlRnM\"\n",
    "#    zip_path = \"celeba.zip\"\n",
    "#    extract_path = \"celeba\"\n",
    "#    url = \"https://drive.google.com/uc?export=download&id=0B7EVK8r0v71pZjFTYXZWM3FlRnM\"\n",
    "#    #output = \"fcn8s_from_caffe.npz\"\n",
    "#\n",
    "#    print(\"Downloading CelebA dataset...\")\n",
    "#    #download_file(url, zip_path)\n",
    "#    gdown.download(url, zip_path)\n",
    "#\n",
    "#    print(\"Extracting CelebA dataset...\")\n",
    "#    with zipfile.ZipFile(zip_path, 'r') as zip_ref:\n",
    "#        zip_ref.extractall(extract_path)\n",
    "#\n",
    "#    os.remove(zip_path)\n",
    "#    print(\"CelebA dataset acquired and extracted.\")\n",
    "\n",
    "def acquire_flowers102():\n",
    "    print(\"Downloading Flowers102 dataset...\")\n",
    "    Flowers102(root='./data', download=True)\n",
    "    print(\"Flowers102 dataset acquired.\")\n",
    "\n",
    "def acquire_celeba2():\n",
    "    print(\"Downloading CelebA dataset...\")\n",
    "    CelebA(root='./data', download=True)\n",
    "    print(\"CelebA dataset acquired.\")\n"
   ]
  },
  {
   "cell_type": "code",
   "execution_count": 3,
   "metadata": {
    "scrolled": true
   },
   "outputs": [
    {
     "name": "stdout",
     "output_type": "stream",
     "text": [
      "Downloading Flowers102 dataset...\n",
      "Downloading https://thor.robots.ox.ac.uk/flowers/102/102flowers.tgz to data/flowers-102/102flowers.tgz\n"
     ]
    },
    {
     "name": "stderr",
     "output_type": "stream",
     "text": [
      "100%|██████████| 344862509/344862509 [01:10<00:00, 4912935.05it/s]\n"
     ]
    },
    {
     "name": "stdout",
     "output_type": "stream",
     "text": [
      "Extracting data/flowers-102/102flowers.tgz to data/flowers-102\n",
      "Downloading https://thor.robots.ox.ac.uk/flowers/102/imagelabels.mat to data/flowers-102/imagelabels.mat\n"
     ]
    },
    {
     "name": "stderr",
     "output_type": "stream",
     "text": [
      "100%|██████████| 502/502 [00:00<00:00, 259590.75it/s]\n"
     ]
    },
    {
     "name": "stdout",
     "output_type": "stream",
     "text": [
      "Downloading https://thor.robots.ox.ac.uk/flowers/102/setid.mat to data/flowers-102/setid.mat\n"
     ]
    },
    {
     "name": "stderr",
     "output_type": "stream",
     "text": [
      "100%|██████████| 14989/14989 [00:00<00:00, 12397638.07it/s]"
     ]
    },
    {
     "name": "stdout",
     "output_type": "stream",
     "text": [
      "Flowers102 dataset acquired.\n"
     ]
    },
    {
     "name": "stderr",
     "output_type": "stream",
     "text": [
      "\n"
     ]
    }
   ],
   "source": [
    "acquire_flowers102()"
   ]
  },
  {
   "cell_type": "code",
   "execution_count": null,
   "metadata": {},
   "outputs": [],
   "source": [
    "acquire_celeba2()\n",
    "# If you get the FileURLRetrievalError, that means the daily quota for google drive download is exceeded, download the img_align_celeba.zip file from this drive link manually:\n",
    "#https://drive.google.com/drive/folders/0B7EVK8r0v71pTUZsaXdaSnZBZzg?resourcekey=0-rJlzl934LzC-Xp28GeIBzQ\n",
    "#and also all the txt files, listed here in the file_list:\n",
    "#https://pytorch.org/vision/main/_modules/torchvision/datasets/celeba.html#:~:text=%23%20right%20now.-,file_list,-%3D%20%5B%0A%20%20%20%20%20%20%20%20%23%20File\n",
    "#and after its downloaded, unzip img_align_celeba.zip to data/celeba (takes like 1 hour, 200k pictures)\n",
    "#Dir structure should look like this (jpeg pictures in dir):\n",
    "#--data/\n",
    "#---celeba/\n",
    "#----img_align_celeba\n",
    "#----identity_CelebA.txt\n",
    "#----list_attr_celeba.txt\n",
    "#----list_bbox_celeba.txt\n",
    "#----list_eval_partition.txt\n",
    "#----list_landmarks_align_celeba.txt\n",
    "#----list_landmarks_celeba.txt\n"
   ]
  },
  {
   "cell_type": "markdown",
   "metadata": {},
   "source": [
    "## 2. Data Analysis"
   ]
  },
  {
   "cell_type": "code",
   "execution_count": 5,
   "metadata": {},
   "outputs": [],
   "source": [
    "def analyze_dataset(dataset_path, is_flowers=False):\n",
    "    if is_flowers:\n",
    "        dataset = Flowers102(root=dataset_path, download=False)\n",
    "        images = [dataset[i][0] for i in range(len(dataset))]\n",
    "    else:\n",
    "        #dataset = CelebA(root=dataset_path, download=False)\n",
    "        dataset=CelebA(root=dataset_path, download=False)\n",
    "        images = [dataset[i][0] for i in range(len(dataset))]\n",
    "        #images = [Image.open(os.path.join(dataset_path, f)) for f in os.listdir(dataset_path) if f.endswith('.jpg')]\n",
    "\n",
    "    sizes = [img.size for img in images]\n",
    "    aspects = [w/h for w, h in sizes]\n",
    "    \n",
    "    print(f\"Total images: {len(images)}\")\n",
    "    print(f\"Average size: {np.mean(sizes, axis=0)}\")\n",
    "    print(f\"Size std dev: {np.std(sizes, axis=0)}\")\n",
    "    print(f\"Average aspect ratio: {np.mean(aspects)}\")\n",
    "    \n",
    "    plt.figure(figsize=(10, 5))\n",
    "    plt.subplot(121)\n",
    "    plt.hist([s[0] for s in sizes], bins=50)\n",
    "    plt.title('Width Distribution')\n",
    "    plt.subplot(122)\n",
    "    plt.hist([s[1] for s in sizes], bins=50)\n",
    "    plt.title('Height Distribution')\n",
    "    plt.tight_layout()\n",
    "    plt.show()\n",
    "    \n",
    "    plt.figure()\n",
    "    plt.hist(aspects, bins=50)\n",
    "    plt.title('Aspect Ratio Distribution')\n",
    "    plt.show()\n",
    "\n",
    "# Uncomment these lines to analyze the datasets\n",
    "# analyze_dataset(\"./data/celeba/img_align_celeba\")\n",
    "# analyze_dataset(\"./data\", is_flowers=True)"
   ]
  },
  {
   "cell_type": "code",
   "execution_count": null,
   "metadata": {},
   "outputs": [],
   "source": [
    "analyze_dataset(\"./data\")"
   ]
  },
  {
   "cell_type": "code",
   "execution_count": 4,
   "metadata": {},
   "outputs": [
    {
     "name": "stdout",
     "output_type": "stream",
     "text": [
      "Total images: 1020\n",
      "Average size: [624.48921569 537.7754902 ]\n",
      "Size std dev: [97.37465991 79.19704631]\n",
      "Average aspect ratio: 1.1943896536225806\n"
     ]
    },
    {
     "data": {
      "image/png": "[encoded data removed]",
      "text/plain": [
       "<Figure size 1000x500 with 2 Axes>"
      ]
     },
     "metadata": {},
     "output_type": "display_data"
    },
    {
     "data": {
      "image/png": "[encoded data removed]",
      "text/plain": [
       "<Figure size 640x480 with 1 Axes>"
      ]
     },
     "metadata": {},
     "output_type": "display_data"
    }
   ],
   "source": [
    "analyze_dataset(\"./data\", is_flowers=True)"
   ]
  },
  {
   "cell_type": "markdown",
   "metadata": {},
   "source": [
    "## 3. Data Cleansing and Preparation"
   ]
  },
  {
   "cell_type": "code",
   "execution_count": 8,
   "metadata": {},
   "outputs": [],
   "source": [
    "#class CelebADataset(Dataset):\n",
    "#    def __init__(self, root_dir, transform=None):\n",
    "#        self.root_dir = root_dir\n",
    "#        self.transform = transform\n",
    "#        self.image_files = [f for f in os.listdir(root_dir) if f.endswith('.jpg')]\n",
    "#\n",
    "#    def __len__(self):\n",
    "#        return len(self.image_files)\n",
    "#\n",
    "#    def __getitem__(self, idx):\n",
    "#        img_name = os.path.join(self.root_dir, self.image_files[idx])\n",
    "#        image = Image.open(img_name).convert('RGB')\n",
    "#        \n",
    "#        if self.transform:\n",
    "#            image = self.transform(image)\n",
    "#        \n",
    "#        return image\n",
    "\n",
    "def prepare_data(dataset_path, is_flowers=False, image_size=64, batch_size=32):\n",
    "    transform = transforms.Compose([\n",
    "        transforms.Resize((image_size, image_size)),\n",
    "        transforms.RandomHorizontalFlip(),\n",
    "        transforms.ToTensor(),\n",
    "        transforms.Normalize((0.5, 0.5, 0.5), (0.5, 0.5, 0.5))\n",
    "    ])\n",
    "\n",
    "    if is_flowers:\n",
    "        dataset = Flowers102(root=dataset_path, download=False, transform=transform)\n",
    "    else:\n",
    "        #dataset = CelebADataset(dataset_path, transform=transform)\n",
    "        dataset = CelebA(root=dataset_path, download=False, transform=transform)\n",
    "\n",
    "    dataloader = DataLoader(dataset, batch_size=batch_size, shuffle=True, num_workers=4)\n",
    "    \n",
    "    return dataloader\n",
    "\n",
    "def clean_data(dataloader):\n",
    "    cleaned_images = []\n",
    "    for batch in dataloader:\n",
    "        # Remove any images with NaN or Inf values\n",
    "        mask = torch.isfinite(batch).all(dim=(1, 2, 3))\n",
    "        cleaned_images.append(batch[mask])\n",
    "    \n",
    "    return torch.cat(cleaned_images, dim=0)\n",
    "\n",
    "# Uncomment these lines to prepare and clean the datasets\n",
    "# celeba_loader = prepare_data(\"./celeba/img_align_celeba\", is_flowers=False)\n",
    "# flowers_loader = prepare_data(\"./data\", is_flowers=True)\n",
    "\n",
    "# cleaned_celeba = clean_data(celeba_loader)\n",
    "# cleaned_flowers = clean_data(flowers_loader)\n",
    "\n",
    "# print(f\"Cleaned CelebA dataset size: {cleaned_celeba.shape}\")\n",
    "# print(f\"Cleaned Flowers102 dataset size: {cleaned_flowers.shape}\")\n",
    "\n",
    "# # Save cleaned datasets\n",
    "# torch.save(cleaned_celeba, \"cleaned_celeba.pt\")\n",
    "# torch.save(cleaned_flowers, \"cleaned_flowers.pt\")"
   ]
  },
  {
   "cell_type": "code",
   "execution_count": 12,
   "metadata": {},
   "outputs": [
    {
     "name": "stdout",
     "output_type": "stream",
     "text": [
      "<class 'torch.utils.data.dataloader.DataLoader'>\n"
     ]
    },
    {
     "ename": "TypeError",
     "evalue": "isfinite(): argument 'input' (position 1) must be Tensor, not list",
     "output_type": "error",
     "traceback": [
      "\u001b[0;31m---------------------------------------------------------------------------\u001b[0m",
      "\u001b[0;31mTypeError\u001b[0m                                 Traceback (most recent call last)",
      "Cell \u001b[0;32mIn[12], line 3\u001b[0m\n\u001b[1;32m      1\u001b[0m flowers_loader \u001b[38;5;241m=\u001b[39m prepare_data(\u001b[38;5;124m\"\u001b[39m\u001b[38;5;124m./data\u001b[39m\u001b[38;5;124m\"\u001b[39m, is_flowers\u001b[38;5;241m=\u001b[39m\u001b[38;5;28;01mTrue\u001b[39;00m)\n\u001b[1;32m      2\u001b[0m \u001b[38;5;28mprint\u001b[39m(\u001b[38;5;28mtype\u001b[39m(flowers_loader))\n\u001b[0;32m----> 3\u001b[0m cleaned_flowers \u001b[38;5;241m=\u001b[39m \u001b[43mclean_data\u001b[49m\u001b[43m(\u001b[49m\u001b[43mflowers_loader\u001b[49m\u001b[43m)\u001b[49m\n\u001b[1;32m      4\u001b[0m \u001b[38;5;28mprint\u001b[39m(\u001b[38;5;124mf\u001b[39m\u001b[38;5;124m\"\u001b[39m\u001b[38;5;124mCleaned Flowers102 dataset size: \u001b[39m\u001b[38;5;132;01m{\u001b[39;00mcleaned_flowers\u001b[38;5;241m.\u001b[39mshape\u001b[38;5;132;01m}\u001b[39;00m\u001b[38;5;124m\"\u001b[39m)\n\u001b[1;32m      5\u001b[0m torch\u001b[38;5;241m.\u001b[39msave(cleaned_flowers, \u001b[38;5;124m\"\u001b[39m\u001b[38;5;124mcleaned_flowers.pt\u001b[39m\u001b[38;5;124m\"\u001b[39m)\n",
      "Cell \u001b[0;32mIn[8], line 41\u001b[0m, in \u001b[0;36mclean_data\u001b[0;34m(dataloader)\u001b[0m\n\u001b[1;32m     38\u001b[0m cleaned_images \u001b[38;5;241m=\u001b[39m []\n\u001b[1;32m     39\u001b[0m \u001b[38;5;28;01mfor\u001b[39;00m batch \u001b[38;5;129;01min\u001b[39;00m dataloader:\n\u001b[1;32m     40\u001b[0m     \u001b[38;5;66;03m# Remove any images with NaN or Inf values\u001b[39;00m\n\u001b[0;32m---> 41\u001b[0m     mask \u001b[38;5;241m=\u001b[39m \u001b[43mtorch\u001b[49m\u001b[38;5;241;43m.\u001b[39;49m\u001b[43misfinite\u001b[49m\u001b[43m(\u001b[49m\u001b[43mbatch\u001b[49m\u001b[43m)\u001b[49m\u001b[38;5;241m.\u001b[39mall(dim\u001b[38;5;241m=\u001b[39m(\u001b[38;5;241m1\u001b[39m, \u001b[38;5;241m2\u001b[39m, \u001b[38;5;241m3\u001b[39m))\n\u001b[1;32m     42\u001b[0m     cleaned_images\u001b[38;5;241m.\u001b[39mappend(batch[mask])\n\u001b[1;32m     44\u001b[0m \u001b[38;5;28;01mreturn\u001b[39;00m torch\u001b[38;5;241m.\u001b[39mcat(cleaned_images, dim\u001b[38;5;241m=\u001b[39m\u001b[38;5;241m0\u001b[39m)\n",
      "\u001b[0;31mTypeError\u001b[0m: isfinite(): argument 'input' (position 1) must be Tensor, not list"
     ]
    }
   ],
   "source": [
    "flowers_loader = prepare_data(\"./data\", is_flowers=True)\n",
    "print(type(flowers_loader))\n",
    "cleaned_flowers = clean_data(flowers_loader)\n",
    "print(f\"Cleaned Flowers102 dataset size: {cleaned_flowers.shape}\")\n",
    "torch.save(cleaned_flowers, \"cleaned_flowers.pt\")"
   ]
  },
  {
   "cell_type": "code",
   "execution_count": null,
   "metadata": {},
   "outputs": [],
   "source": []
  }
 ],
 "metadata": {
  "kernelspec": {
   "display_name": "Python 3 (ipykernel)",
   "language": "python",
   "name": "python3"
  },
  "language_info": {
   "codemirror_mode": {
    "name": "ipython",
    "version": 3
   },
   "file_extension": ".py",
   "mimetype": "text/x-python",
   "name": "python",
   "nbconvert_exporter": "python",
   "pygments_lexer": "ipython3",
   "version": "3.10.13"
  }
 },
 "nbformat": 4,
 "nbformat_minor": 4
}
